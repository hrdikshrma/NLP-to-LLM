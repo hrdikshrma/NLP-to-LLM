{
 "cells": [
  {
   "cell_type": "markdown",
   "id": "2c1fa8c5",
   "metadata": {},
   "source": [
    "### This ipynb contains the usage of 'sent_tokenize' and 'word_tokenize' form the nltk library"
   ]
  },
  {
   "cell_type": "code",
   "execution_count": 1,
   "id": "24927334",
   "metadata": {},
   "outputs": [
    {
     "name": "stderr",
     "output_type": "stream",
     "text": [
      "/Users/hardiksharma/anaconda3/lib/python3.10/site-packages/pandas/core/arrays/masked.py:60: UserWarning: Pandas requires version '1.3.6' or newer of 'bottleneck' (version '1.3.5' currently installed).\n",
      "  from pandas.core import (\n"
     ]
    }
   ],
   "source": [
    "import nltk"
   ]
  },
  {
   "cell_type": "code",
   "execution_count": 2,
   "id": "7ab1c267",
   "metadata": {},
   "outputs": [],
   "source": [
    "corpus = \"\"\"In today’s fast-paced world, technology continues to evolve at an incredible rate, transforming how we live, work, and communicate. \n",
    "From smartphones and artificial intelligence to space exploration and renewable energy, innovation is shaping our future in remarkable ways. \n",
    "As individuals, it’s important to stay informed and adaptable, embracing new skills and ideas. Lifelong learning is no longer optional—it’s essential. \n",
    "Whether you're a student, a professional, or someone exploring new interests, the ability to grow and adapt will open doors. \n",
    "Embrace change, remain curious, and always strive to understand the world a little better each day.\n",
    "\"\"\""
   ]
  },
  {
   "cell_type": "markdown",
   "id": "88a91962",
   "metadata": {},
   "source": [
    "## Paragraph -> Sentences"
   ]
  },
  {
   "cell_type": "code",
   "execution_count": 3,
   "id": "ed61de41",
   "metadata": {},
   "outputs": [
    {
     "name": "stdout",
     "output_type": "stream",
     "text": [
      "['In today’s fast-paced world, technology continues to evolve at an incredible rate, transforming how we live, work, and communicate.', 'From smartphones and artificial intelligence to space exploration and renewable energy, innovation is shaping our future in remarkable ways.', 'As individuals, it’s important to stay informed and adaptable, embracing new skills and ideas.', 'Lifelong learning is no longer optional—it’s essential.', \"Whether you're a student, a professional, or someone exploring new interests, the ability to grow and adapt will open doors.\", 'Embrace change, remain curious, and always strive to understand the world a little better each day.']\n"
     ]
    }
   ],
   "source": [
    "from nltk.tokenize import sent_tokenize\n",
    "documents = sent_tokenize(corpus)\n",
    "print(documents)"
   ]
  },
  {
   "cell_type": "markdown",
   "id": "83b58a40",
   "metadata": {},
   "source": [
    "## Paragraph -> Words"
   ]
  },
  {
   "cell_type": "code",
   "execution_count": 4,
   "id": "0f62e087",
   "metadata": {},
   "outputs": [
    {
     "data": {
      "text/plain": [
       "['In',\n",
       " 'today',\n",
       " '’',\n",
       " 's',\n",
       " 'fast-paced',\n",
       " 'world',\n",
       " ',',\n",
       " 'technology',\n",
       " 'continues',\n",
       " 'to',\n",
       " 'evolve',\n",
       " 'at',\n",
       " 'an',\n",
       " 'incredible',\n",
       " 'rate',\n",
       " ',',\n",
       " 'transforming',\n",
       " 'how',\n",
       " 'we',\n",
       " 'live',\n",
       " ',',\n",
       " 'work',\n",
       " ',',\n",
       " 'and',\n",
       " 'communicate',\n",
       " '.',\n",
       " 'From',\n",
       " 'smartphones',\n",
       " 'and',\n",
       " 'artificial',\n",
       " 'intelligence',\n",
       " 'to',\n",
       " 'space',\n",
       " 'exploration',\n",
       " 'and',\n",
       " 'renewable',\n",
       " 'energy',\n",
       " ',',\n",
       " 'innovation',\n",
       " 'is',\n",
       " 'shaping',\n",
       " 'our',\n",
       " 'future',\n",
       " 'in',\n",
       " 'remarkable',\n",
       " 'ways',\n",
       " '.',\n",
       " 'As',\n",
       " 'individuals',\n",
       " ',',\n",
       " 'it',\n",
       " '’',\n",
       " 's',\n",
       " 'important',\n",
       " 'to',\n",
       " 'stay',\n",
       " 'informed',\n",
       " 'and',\n",
       " 'adaptable',\n",
       " ',',\n",
       " 'embracing',\n",
       " 'new',\n",
       " 'skills',\n",
       " 'and',\n",
       " 'ideas',\n",
       " '.',\n",
       " 'Lifelong',\n",
       " 'learning',\n",
       " 'is',\n",
       " 'no',\n",
       " 'longer',\n",
       " 'optional—it',\n",
       " '’',\n",
       " 's',\n",
       " 'essential',\n",
       " '.',\n",
       " 'Whether',\n",
       " 'you',\n",
       " \"'re\",\n",
       " 'a',\n",
       " 'student',\n",
       " ',',\n",
       " 'a',\n",
       " 'professional',\n",
       " ',',\n",
       " 'or',\n",
       " 'someone',\n",
       " 'exploring',\n",
       " 'new',\n",
       " 'interests',\n",
       " ',',\n",
       " 'the',\n",
       " 'ability',\n",
       " 'to',\n",
       " 'grow',\n",
       " 'and',\n",
       " 'adapt',\n",
       " 'will',\n",
       " 'open',\n",
       " 'doors',\n",
       " '.',\n",
       " 'Embrace',\n",
       " 'change',\n",
       " ',',\n",
       " 'remain',\n",
       " 'curious',\n",
       " ',',\n",
       " 'and',\n",
       " 'always',\n",
       " 'strive',\n",
       " 'to',\n",
       " 'understand',\n",
       " 'the',\n",
       " 'world',\n",
       " 'a',\n",
       " 'little',\n",
       " 'better',\n",
       " 'each',\n",
       " 'day',\n",
       " '.']"
      ]
     },
     "execution_count": 4,
     "metadata": {},
     "output_type": "execute_result"
    }
   ],
   "source": [
    "from nltk.tokenize import word_tokenize\n",
    "word_tokenize(corpus)"
   ]
  },
  {
   "cell_type": "markdown",
   "id": "998b1404",
   "metadata": {},
   "source": [
    "## Sentences -> Words"
   ]
  },
  {
   "cell_type": "code",
   "execution_count": 5,
   "id": "457cbb82",
   "metadata": {},
   "outputs": [
    {
     "name": "stdout",
     "output_type": "stream",
     "text": [
      "['In', 'today', '’', 's', 'fast-paced', 'world', ',', 'technology', 'continues', 'to', 'evolve', 'at', 'an', 'incredible', 'rate', ',', 'transforming', 'how', 'we', 'live', ',', 'work', ',', 'and', 'communicate', '.']\n",
      "['From', 'smartphones', 'and', 'artificial', 'intelligence', 'to', 'space', 'exploration', 'and', 'renewable', 'energy', ',', 'innovation', 'is', 'shaping', 'our', 'future', 'in', 'remarkable', 'ways', '.']\n",
      "['As', 'individuals', ',', 'it', '’', 's', 'important', 'to', 'stay', 'informed', 'and', 'adaptable', ',', 'embracing', 'new', 'skills', 'and', 'ideas', '.']\n",
      "['Lifelong', 'learning', 'is', 'no', 'longer', 'optional—it', '’', 's', 'essential', '.']\n",
      "['Whether', 'you', \"'re\", 'a', 'student', ',', 'a', 'professional', ',', 'or', 'someone', 'exploring', 'new', 'interests', ',', 'the', 'ability', 'to', 'grow', 'and', 'adapt', 'will', 'open', 'doors', '.']\n",
      "['Embrace', 'change', ',', 'remain', 'curious', ',', 'and', 'always', 'strive', 'to', 'understand', 'the', 'world', 'a', 'little', 'better', 'each', 'day', '.']\n"
     ]
    }
   ],
   "source": [
    "for sentences in documents:\n",
    "    print(word_tokenize(sentences))"
   ]
  }
 ],
 "metadata": {
  "kernelspec": {
   "display_name": "Python 3 (ipykernel)",
   "language": "python",
   "name": "python3"
  },
  "language_info": {
   "codemirror_mode": {
    "name": "ipython",
    "version": 3
   },
   "file_extension": ".py",
   "mimetype": "text/x-python",
   "name": "python",
   "nbconvert_exporter": "python",
   "pygments_lexer": "ipython3",
   "version": "3.10.9"
  }
 },
 "nbformat": 4,
 "nbformat_minor": 5
}
