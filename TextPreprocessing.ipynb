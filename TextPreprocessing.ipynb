{
 "cells": [
  {
   "cell_type": "markdown",
   "id": "c717a9b0",
   "metadata": {},
   "source": [
    "### This ipynb contains the usage of 'Porter Stemmer', 'Regexp Stemmer' and 'Snowball Stemmer' for Stemming tasks\n",
    "### This ipynb contains the usage of 'WordNetLemmatizer' for Lemmatization tasks"
   ]
  },
  {
   "cell_type": "code",
   "execution_count": 1,
   "id": "af87cc08",
   "metadata": {},
   "outputs": [
    {
     "name": "stderr",
     "output_type": "stream",
     "text": [
      "/Users/hardiksharma/anaconda3/lib/python3.10/site-packages/pandas/core/arrays/masked.py:60: UserWarning: Pandas requires version '1.3.6' or newer of 'bottleneck' (version '1.3.5' currently installed).\n",
      "  from pandas.core import (\n",
      "[nltk_data] Downloading package wordnet to\n",
      "[nltk_data]     /Users/hardiksharma/nltk_data...\n",
      "[nltk_data]   Package wordnet is already up-to-date!\n",
      "[nltk_data] Downloading package stopwords to\n",
      "[nltk_data]     /Users/hardiksharma/nltk_data...\n",
      "[nltk_data]   Package stopwords is already up-to-date!\n"
     ]
    },
    {
     "data": {
      "text/plain": [
       "True"
      ]
     },
     "execution_count": 1,
     "metadata": {},
     "output_type": "execute_result"
    }
   ],
   "source": [
    "import nltk\n",
    "nltk.download('wordnet')\n",
    "nltk.download('stopwords')"
   ]
  },
  {
   "cell_type": "markdown",
   "id": "9c837e4e",
   "metadata": {},
   "source": [
    "## 1. Stemming "
   ]
  },
  {
   "cell_type": "markdown",
   "id": "0cb01bd6",
   "metadata": {},
   "source": [
    "#### Cuts off word endings to get the root. Rule-based chopping (heuristic). Might produce non-words. Faster (no lookup needed). Less accurate"
   ]
  },
  {
   "cell_type": "code",
   "execution_count": 2,
   "id": "4d7d6229",
   "metadata": {},
   "outputs": [],
   "source": [
    "words = [\n",
    "    \"congratulations\",\"running\", \"eat\", \"jumping\", \"talk\", \"flying\", \"build\", \"sleeping\", \"drive\", \"dancing\", \"write\",\n",
    "    \"reading\", \"sing\", \"working\", \"think\", \"going\", \"bring\", \"buying\", \"catch\", \"climbing\", \"cry\",\n",
    "    \"drawing\", \"fall\", \"feeling\", \"fighting\", \"find\", \"giving\", \"grow\", \"helping\", \"hitting\", \"hold\",\n",
    "    \"hoping\", \"kicking\", \"knowing\", \"learning\", \"leaving\", \"listen\", \"losing\", \"making\", \"meeting\", \"open\",\n",
    "    \"painting\", \"playing\", \"pull\", \"pushing\", \"riding\", \"running\", \"saying\", \"seeing\", \"sitting\", \"starting\"\n",
    "]"
   ]
  },
  {
   "cell_type": "markdown",
   "id": "91c9f565",
   "metadata": {},
   "source": [
    "### 1.1 PorterStemmer"
   ]
  },
  {
   "cell_type": "code",
   "execution_count": 3,
   "id": "a1880614",
   "metadata": {},
   "outputs": [],
   "source": [
    "from nltk.stem import PorterStemmer\n",
    "stemming = PorterStemmer()"
   ]
  },
  {
   "cell_type": "code",
   "execution_count": 4,
   "id": "f3188b6b",
   "metadata": {
    "scrolled": true
   },
   "outputs": [
    {
     "name": "stdout",
     "output_type": "stream",
     "text": [
      "congratulations------>congratul\n",
      "running------>run\n",
      "eat------>eat\n",
      "jumping------>jump\n",
      "talk------>talk\n",
      "flying------>fli\n",
      "build------>build\n",
      "sleeping------>sleep\n",
      "drive------>drive\n",
      "dancing------>danc\n",
      "write------>write\n",
      "reading------>read\n",
      "sing------>sing\n",
      "working------>work\n",
      "think------>think\n",
      "going------>go\n",
      "bring------>bring\n",
      "buying------>buy\n",
      "catch------>catch\n",
      "climbing------>climb\n",
      "cry------>cri\n",
      "drawing------>draw\n",
      "fall------>fall\n",
      "feeling------>feel\n",
      "fighting------>fight\n",
      "find------>find\n",
      "giving------>give\n",
      "grow------>grow\n",
      "helping------>help\n",
      "hitting------>hit\n",
      "hold------>hold\n",
      "hoping------>hope\n",
      "kicking------>kick\n",
      "knowing------>know\n",
      "learning------>learn\n",
      "leaving------>leav\n",
      "listen------>listen\n",
      "losing------>lose\n",
      "making------>make\n",
      "meeting------>meet\n",
      "open------>open\n",
      "painting------>paint\n",
      "playing------>play\n",
      "pull------>pull\n",
      "pushing------>push\n",
      "riding------>ride\n",
      "running------>run\n",
      "saying------>say\n",
      "seeing------>see\n",
      "sitting------>sit\n",
      "starting------>start\n"
     ]
    }
   ],
   "source": [
    "for word in words:\n",
    "    print(word + \"------>\" + stemming.stem(word))"
   ]
  },
  {
   "cell_type": "markdown",
   "id": "67f6421b",
   "metadata": {},
   "source": [
    "### 1.2 RegexpStemmer Class"
   ]
  },
  {
   "cell_type": "code",
   "execution_count": 5,
   "id": "303c2681",
   "metadata": {},
   "outputs": [],
   "source": [
    "from nltk.stem import RegexpStemmer\n",
    "reg_stemmer = RegexpStemmer('ing$|s$|e$|able$', min=4)"
   ]
  },
  {
   "cell_type": "code",
   "execution_count": 6,
   "id": "ee38ff15",
   "metadata": {
    "scrolled": true
   },
   "outputs": [
    {
     "name": "stdout",
     "output_type": "stream",
     "text": [
      "congratulations------>congratulation\n",
      "running------>runn\n",
      "eat------>eat\n",
      "jumping------>jump\n",
      "talk------>talk\n",
      "flying------>fly\n",
      "build------>build\n",
      "sleeping------>sleep\n",
      "drive------>driv\n",
      "dancing------>danc\n",
      "write------>writ\n",
      "reading------>read\n",
      "sing------>s\n",
      "working------>work\n",
      "think------>think\n",
      "going------>go\n",
      "bring------>br\n",
      "buying------>buy\n",
      "catch------>catch\n",
      "climbing------>climb\n",
      "cry------>cry\n",
      "drawing------>draw\n",
      "fall------>fall\n",
      "feeling------>feel\n",
      "fighting------>fight\n",
      "find------>find\n",
      "giving------>giv\n",
      "grow------>grow\n",
      "helping------>help\n",
      "hitting------>hitt\n",
      "hold------>hold\n",
      "hoping------>hop\n",
      "kicking------>kick\n",
      "knowing------>know\n",
      "learning------>learn\n",
      "leaving------>leav\n",
      "listen------>listen\n",
      "losing------>los\n",
      "making------>mak\n",
      "meeting------>meet\n",
      "open------>open\n",
      "painting------>paint\n",
      "playing------>play\n",
      "pull------>pull\n",
      "pushing------>push\n",
      "riding------>rid\n",
      "running------>runn\n",
      "saying------>say\n",
      "seeing------>see\n",
      "sitting------>sitt\n",
      "starting------>start\n"
     ]
    }
   ],
   "source": [
    "for word in words:\n",
    "    print(word + \"------>\" + reg_stemmer.stem(word))"
   ]
  },
  {
   "cell_type": "markdown",
   "id": "13ff9547",
   "metadata": {},
   "source": [
    "### 1.3 Snowball Stemmer"
   ]
  },
  {
   "cell_type": "code",
   "execution_count": 7,
   "id": "693d5d43",
   "metadata": {},
   "outputs": [],
   "source": [
    "from nltk.stem import SnowballStemmer\n",
    "snowball_stemmer = SnowballStemmer('english')"
   ]
  },
  {
   "cell_type": "code",
   "execution_count": 8,
   "id": "fc3a2df3",
   "metadata": {
    "scrolled": true
   },
   "outputs": [
    {
     "name": "stdout",
     "output_type": "stream",
     "text": [
      "congratulations------>congratul\n",
      "running------>run\n",
      "eat------>eat\n",
      "jumping------>jump\n",
      "talk------>talk\n",
      "flying------>fli\n",
      "build------>build\n",
      "sleeping------>sleep\n",
      "drive------>drive\n",
      "dancing------>danc\n",
      "write------>write\n",
      "reading------>read\n",
      "sing------>sing\n",
      "working------>work\n",
      "think------>think\n",
      "going------>go\n",
      "bring------>bring\n",
      "buying------>buy\n",
      "catch------>catch\n",
      "climbing------>climb\n",
      "cry------>cri\n",
      "drawing------>draw\n",
      "fall------>fall\n",
      "feeling------>feel\n",
      "fighting------>fight\n",
      "find------>find\n",
      "giving------>give\n",
      "grow------>grow\n",
      "helping------>help\n",
      "hitting------>hit\n",
      "hold------>hold\n",
      "hoping------>hope\n",
      "kicking------>kick\n",
      "knowing------>know\n",
      "learning------>learn\n",
      "leaving------>leav\n",
      "listen------>listen\n",
      "losing------>lose\n",
      "making------>make\n",
      "meeting------>meet\n",
      "open------>open\n",
      "painting------>paint\n",
      "playing------>play\n",
      "pull------>pull\n",
      "pushing------>push\n",
      "riding------>ride\n",
      "running------>run\n",
      "saying------>say\n",
      "seeing------>see\n",
      "sitting------>sit\n",
      "starting------>start\n"
     ]
    }
   ],
   "source": [
    "for word in words:\n",
    "    print(word + \"------>\" + snowball_stemmer.stem(word))"
   ]
  },
  {
   "cell_type": "markdown",
   "id": "5ed78029",
   "metadata": {},
   "source": [
    "## 2. Lemmatization"
   ]
  },
  {
   "cell_type": "markdown",
   "id": "d7c542ca",
   "metadata": {},
   "source": [
    "#### Converts a word to its base dictionary form. Dictionary and grammar-based analysis. Always produces real words. Slower (uses vocabulary + POS tagging). More accurate and meaningful"
   ]
  },
  {
   "cell_type": "markdown",
   "id": "071b6ce5",
   "metadata": {},
   "source": [
    "### 2.1 WordNetLemmatizer"
   ]
  },
  {
   "cell_type": "code",
   "execution_count": 9,
   "id": "73cc398c",
   "metadata": {},
   "outputs": [],
   "source": [
    "from nltk.stem import WordNetLemmatizer\n",
    "lemmatizer = WordNetLemmatizer()"
   ]
  },
  {
   "cell_type": "code",
   "execution_count": 10,
   "id": "8d19f405",
   "metadata": {},
   "outputs": [
    {
     "data": {
      "text/plain": [
       "\"\\nNoun = n\\nVerb = v\\nAdjective = a\\nadverb = r\\n\\nby defaul it is 'n'\\n\""
      ]
     },
     "execution_count": 10,
     "metadata": {},
     "output_type": "execute_result"
    }
   ],
   "source": [
    "'''\n",
    "Noun = n\n",
    "Verb = v\n",
    "Adjective = a\n",
    "adverb = r\n",
    "\n",
    "by defaul it is 'n'\n",
    "'''"
   ]
  },
  {
   "cell_type": "code",
   "execution_count": 11,
   "id": "c5e97b40",
   "metadata": {},
   "outputs": [
    {
     "name": "stdout",
     "output_type": "stream",
     "text": [
      "going\n",
      "go\n"
     ]
    }
   ],
   "source": [
    "print(lemmatizer.lemmatize(\"going\"))\n",
    "print(lemmatizer.lemmatize(\"going\",pos='v'))"
   ]
  },
  {
   "cell_type": "code",
   "execution_count": 12,
   "id": "010e7cd4",
   "metadata": {
    "scrolled": true
   },
   "outputs": [
    {
     "name": "stdout",
     "output_type": "stream",
     "text": [
      "congratulations------>congratulations\n",
      "running------>run\n",
      "eat------>eat\n",
      "jumping------>jump\n",
      "talk------>talk\n",
      "flying------>fly\n",
      "build------>build\n",
      "sleeping------>sleep\n",
      "drive------>drive\n",
      "dancing------>dance\n",
      "write------>write\n",
      "reading------>read\n",
      "sing------>sing\n",
      "working------>work\n",
      "think------>think\n",
      "going------>go\n",
      "bring------>bring\n",
      "buying------>buy\n",
      "catch------>catch\n",
      "climbing------>climb\n",
      "cry------>cry\n",
      "drawing------>draw\n",
      "fall------>fall\n",
      "feeling------>feel\n",
      "fighting------>fight\n",
      "find------>find\n",
      "giving------>give\n",
      "grow------>grow\n",
      "helping------>help\n",
      "hitting------>hit\n",
      "hold------>hold\n",
      "hoping------>hop\n",
      "kicking------>kick\n",
      "knowing------>know\n",
      "learning------>learn\n",
      "leaving------>leave\n",
      "listen------>listen\n",
      "losing------>lose\n",
      "making------>make\n",
      "meeting------>meet\n",
      "open------>open\n",
      "painting------>paint\n",
      "playing------>play\n",
      "pull------>pull\n",
      "pushing------>push\n",
      "riding------>rid\n",
      "running------>run\n",
      "saying------>say\n",
      "seeing------>see\n",
      "sitting------>sit\n",
      "starting------>start\n"
     ]
    }
   ],
   "source": [
    "for word in words:\n",
    "    print(word + \"------>\" + lemmatizer.lemmatize(word,pos='v')) # Lemmatization depends on the provided POS"
   ]
  },
  {
   "cell_type": "markdown",
   "id": "eadafab3",
   "metadata": {},
   "source": [
    "## 3. Handling Stopwords"
   ]
  },
  {
   "cell_type": "code",
   "execution_count": 13,
   "id": "6a9cacc2",
   "metadata": {},
   "outputs": [],
   "source": [
    "paragraph = \"\"\"It is in the morning when the sun is up that he usually goes out to the park. \n",
    "There, he walks around for a while, and then he sits on a bench, looking at the people who are passing by. \n",
    "Although he doesn’t talk to anyone, he feels as if he is a part of what is going on. \n",
    "It is not about what he does, but about how he feels when he is there. \n",
    "And so, day after day, he comes back, sits there, and watches the world go by.\"\"\""
   ]
  },
  {
   "cell_type": "code",
   "execution_count": 14,
   "id": "2c5782e4",
   "metadata": {},
   "outputs": [],
   "source": [
    "from nltk.corpus import stopwords\n",
    "from nltk.tokenize import sent_tokenize\n",
    "from nltk.tokenize import word_tokenize"
   ]
  },
  {
   "cell_type": "code",
   "execution_count": 15,
   "id": "89889bd7",
   "metadata": {},
   "outputs": [
    {
     "data": {
      "text/plain": [
       "['a',\n",
       " 'about',\n",
       " 'above',\n",
       " 'after',\n",
       " 'again',\n",
       " 'against',\n",
       " 'ain',\n",
       " 'all',\n",
       " 'am',\n",
       " 'an',\n",
       " 'and',\n",
       " 'any',\n",
       " 'are',\n",
       " 'aren',\n",
       " \"aren't\",\n",
       " 'as',\n",
       " 'at',\n",
       " 'be',\n",
       " 'because',\n",
       " 'been',\n",
       " 'before',\n",
       " 'being',\n",
       " 'below',\n",
       " 'between',\n",
       " 'both',\n",
       " 'but',\n",
       " 'by',\n",
       " 'can',\n",
       " 'couldn',\n",
       " \"couldn't\",\n",
       " 'd',\n",
       " 'did',\n",
       " 'didn',\n",
       " \"didn't\",\n",
       " 'do',\n",
       " 'does',\n",
       " 'doesn',\n",
       " \"doesn't\",\n",
       " 'doing',\n",
       " 'don',\n",
       " \"don't\",\n",
       " 'down',\n",
       " 'during',\n",
       " 'each',\n",
       " 'few',\n",
       " 'for',\n",
       " 'from',\n",
       " 'further',\n",
       " 'had',\n",
       " 'hadn',\n",
       " \"hadn't\",\n",
       " 'has',\n",
       " 'hasn',\n",
       " \"hasn't\",\n",
       " 'have',\n",
       " 'haven',\n",
       " \"haven't\",\n",
       " 'having',\n",
       " 'he',\n",
       " \"he'd\",\n",
       " \"he'll\",\n",
       " 'her',\n",
       " 'here',\n",
       " 'hers',\n",
       " 'herself',\n",
       " \"he's\",\n",
       " 'him',\n",
       " 'himself',\n",
       " 'his',\n",
       " 'how',\n",
       " 'i',\n",
       " \"i'd\",\n",
       " 'if',\n",
       " \"i'll\",\n",
       " \"i'm\",\n",
       " 'in',\n",
       " 'into',\n",
       " 'is',\n",
       " 'isn',\n",
       " \"isn't\",\n",
       " 'it',\n",
       " \"it'd\",\n",
       " \"it'll\",\n",
       " \"it's\",\n",
       " 'its',\n",
       " 'itself',\n",
       " \"i've\",\n",
       " 'just',\n",
       " 'll',\n",
       " 'm',\n",
       " 'ma',\n",
       " 'me',\n",
       " 'mightn',\n",
       " \"mightn't\",\n",
       " 'more',\n",
       " 'most',\n",
       " 'mustn',\n",
       " \"mustn't\",\n",
       " 'my',\n",
       " 'myself',\n",
       " 'needn',\n",
       " \"needn't\",\n",
       " 'no',\n",
       " 'nor',\n",
       " 'not',\n",
       " 'now',\n",
       " 'o',\n",
       " 'of',\n",
       " 'off',\n",
       " 'on',\n",
       " 'once',\n",
       " 'only',\n",
       " 'or',\n",
       " 'other',\n",
       " 'our',\n",
       " 'ours',\n",
       " 'ourselves',\n",
       " 'out',\n",
       " 'over',\n",
       " 'own',\n",
       " 're',\n",
       " 's',\n",
       " 'same',\n",
       " 'shan',\n",
       " \"shan't\",\n",
       " 'she',\n",
       " \"she'd\",\n",
       " \"she'll\",\n",
       " \"she's\",\n",
       " 'should',\n",
       " 'shouldn',\n",
       " \"shouldn't\",\n",
       " \"should've\",\n",
       " 'so',\n",
       " 'some',\n",
       " 'such',\n",
       " 't',\n",
       " 'than',\n",
       " 'that',\n",
       " \"that'll\",\n",
       " 'the',\n",
       " 'their',\n",
       " 'theirs',\n",
       " 'them',\n",
       " 'themselves',\n",
       " 'then',\n",
       " 'there',\n",
       " 'these',\n",
       " 'they',\n",
       " \"they'd\",\n",
       " \"they'll\",\n",
       " \"they're\",\n",
       " \"they've\",\n",
       " 'this',\n",
       " 'those',\n",
       " 'through',\n",
       " 'to',\n",
       " 'too',\n",
       " 'under',\n",
       " 'until',\n",
       " 'up',\n",
       " 've',\n",
       " 'very',\n",
       " 'was',\n",
       " 'wasn',\n",
       " \"wasn't\",\n",
       " 'we',\n",
       " \"we'd\",\n",
       " \"we'll\",\n",
       " \"we're\",\n",
       " 'were',\n",
       " 'weren',\n",
       " \"weren't\",\n",
       " \"we've\",\n",
       " 'what',\n",
       " 'when',\n",
       " 'where',\n",
       " 'which',\n",
       " 'while',\n",
       " 'who',\n",
       " 'whom',\n",
       " 'why',\n",
       " 'will',\n",
       " 'with',\n",
       " 'won',\n",
       " \"won't\",\n",
       " 'wouldn',\n",
       " \"wouldn't\",\n",
       " 'y',\n",
       " 'you',\n",
       " \"you'd\",\n",
       " \"you'll\",\n",
       " 'your',\n",
       " \"you're\",\n",
       " 'yours',\n",
       " 'yourself',\n",
       " 'yourselves',\n",
       " \"you've\"]"
      ]
     },
     "execution_count": 15,
     "metadata": {},
     "output_type": "execute_result"
    }
   ],
   "source": [
    "stopwords.words('english') #Stopwords in English. You can try for different languages"
   ]
  },
  {
   "cell_type": "code",
   "execution_count": 16,
   "id": "42969298",
   "metadata": {},
   "outputs": [],
   "source": [
    "sentences = sent_tokenize(paragraph)"
   ]
  },
  {
   "cell_type": "code",
   "execution_count": 17,
   "id": "86f9d19c",
   "metadata": {},
   "outputs": [],
   "source": [
    "for i in range(len(sentences)):\n",
    "    words = word_tokenize(sentences[i])\n",
    "    words = [lemmatizer.lemmatize(word.lower()) for word in words if word not in set(stopwords.words('english'))]\n",
    "    sentences[i] = \" \".join(words)"
   ]
  },
  {
   "cell_type": "code",
   "execution_count": 18,
   "id": "a20c5ea6",
   "metadata": {},
   "outputs": [
    {
     "data": {
      "text/plain": [
       "['it morning sun usually go park .',\n",
       " 'there , walk around , sits bench , looking people passing .',\n",
       " 'although ’ talk anyone , feel part going .',\n",
       " 'it , feel .',\n",
       " 'and , day day , come back , sits , watch world go .']"
      ]
     },
     "execution_count": 18,
     "metadata": {},
     "output_type": "execute_result"
    }
   ],
   "source": [
    "sentences"
   ]
  }
 ],
 "metadata": {
  "kernelspec": {
   "display_name": "Python 3 (ipykernel)",
   "language": "python",
   "name": "python3"
  },
  "language_info": {
   "codemirror_mode": {
    "name": "ipython",
    "version": 3
   },
   "file_extension": ".py",
   "mimetype": "text/x-python",
   "name": "python",
   "nbconvert_exporter": "python",
   "pygments_lexer": "ipython3",
   "version": "3.10.9"
  }
 },
 "nbformat": 4,
 "nbformat_minor": 5
}
